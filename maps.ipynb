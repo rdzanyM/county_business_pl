{
 "cells": [
  {
   "cell_type": "code",
   "execution_count": 1,
   "metadata": {},
   "outputs": [],
   "source": [
    "import os\n",
    "import json\n",
    "import numpy as np\n",
    "import pandas as pd\n",
    "import plotly.express as px\n",
    "from scipy.stats import zscore\n",
    "\n",
    "import dash\n",
    "import dash_core_components as dcc\n",
    "import dash_html_components as html\n",
    "from dash.dependencies import Input, Output\n",
    "import dash_bootstrap_components as dbc"
   ]
  },
  {
   "cell_type": "raw",
   "metadata": {},
   "source": [
    "os.chdir('./data_cleaning')\n",
    "!python data_cleaner.py\n",
    "os.chdir('..')"
   ]
  },
  {
   "cell_type": "code",
   "execution_count": 2,
   "metadata": {},
   "outputs": [],
   "source": [
    "with open('./geo/wojewodztwa-min.geojson', 'r', encoding=\"utf8\") as json_file:\n",
    "    geojson = json.load(json_file)\n",
    "v_id = pd.DataFrame([v['properties'] for v in geojson['features']])\n",
    "v_id['nazwa'] = v_id['nazwa'].str.upper()"
   ]
  },
  {
   "cell_type": "code",
   "execution_count": 3,
   "metadata": {},
   "outputs": [],
   "source": [
    "df = pd.read_csv('./data/ceidg_data_classif_cleaned.csv')"
   ]
  },
  {
   "cell_type": "code",
   "execution_count": 4,
   "metadata": {},
   "outputs": [
    {
     "data": {
      "text/html": [
       "<div>\n",
       "<style scoped>\n",
       "    .dataframe tbody tr th:only-of-type {\n",
       "        vertical-align: middle;\n",
       "    }\n",
       "\n",
       "    .dataframe tbody tr th {\n",
       "        vertical-align: top;\n",
       "    }\n",
       "\n",
       "    .dataframe thead th {\n",
       "        text-align: right;\n",
       "    }\n",
       "</style>\n",
       "<table border=\"1\" class=\"dataframe\">\n",
       "  <thead>\n",
       "    <tr style=\"text-align: right;\">\n",
       "      <th></th>\n",
       "      <th>Unnamed: 0</th>\n",
       "      <th>RandomDate</th>\n",
       "      <th>MonthOfStartingOfTheBusiness</th>\n",
       "      <th>QuarterOfStartingOfTheBusiness</th>\n",
       "      <th>MainAddressVoivodeship</th>\n",
       "      <th>MainAddressCounty</th>\n",
       "      <th>MainAddressTERC</th>\n",
       "      <th>CorrespondenceAddressVoivodeship</th>\n",
       "      <th>CorrespondenceAddressCounty</th>\n",
       "      <th>CorrespondenceAddressTERC</th>\n",
       "      <th>...</th>\n",
       "      <th>ShareholderInOtherCompanies</th>\n",
       "      <th>PKDMainSection</th>\n",
       "      <th>PKDMainDivision</th>\n",
       "      <th>PKDMainGroup</th>\n",
       "      <th>PKDMainClass</th>\n",
       "      <th>NoOfUniquePKDSections</th>\n",
       "      <th>NoOfUniquePKDDivsions</th>\n",
       "      <th>NoOfUniquePKDGroups</th>\n",
       "      <th>NoOfUniquePKDClasses</th>\n",
       "      <th>Target</th>\n",
       "    </tr>\n",
       "  </thead>\n",
       "  <tbody>\n",
       "    <tr>\n",
       "      <th>153592</th>\n",
       "      <td>153592</td>\n",
       "      <td>2017-11-10</td>\n",
       "      <td>July</td>\n",
       "      <td>3</td>\n",
       "      <td>MAZOWIECKIE</td>\n",
       "      <td>WARSZAWA</td>\n",
       "      <td>1465038.0</td>\n",
       "      <td>MAZOWIECKIE</td>\n",
       "      <td>WARSZAWA</td>\n",
       "      <td>1465088.0</td>\n",
       "      <td>...</td>\n",
       "      <td>False</td>\n",
       "      <td>M</td>\n",
       "      <td>70.0</td>\n",
       "      <td>702.0</td>\n",
       "      <td>7022.0</td>\n",
       "      <td>2</td>\n",
       "      <td>2</td>\n",
       "      <td>2</td>\n",
       "      <td>2</td>\n",
       "      <td>False</td>\n",
       "    </tr>\n",
       "    <tr>\n",
       "      <th>1976450</th>\n",
       "      <td>1976450</td>\n",
       "      <td>2018-06-28</td>\n",
       "      <td>October</td>\n",
       "      <td>4</td>\n",
       "      <td>DOLNOŚLĄSKIE</td>\n",
       "      <td>KŁODZKI</td>\n",
       "      <td>208021.0</td>\n",
       "      <td>DOLNOŚLĄSKIE</td>\n",
       "      <td>KŁODZKI</td>\n",
       "      <td>208021.0</td>\n",
       "      <td>...</td>\n",
       "      <td>False</td>\n",
       "      <td>S</td>\n",
       "      <td>95.0</td>\n",
       "      <td>952.0</td>\n",
       "      <td>9522.0</td>\n",
       "      <td>6</td>\n",
       "      <td>7</td>\n",
       "      <td>8</td>\n",
       "      <td>8</td>\n",
       "      <td>False</td>\n",
       "    </tr>\n",
       "    <tr>\n",
       "      <th>821446</th>\n",
       "      <td>821446</td>\n",
       "      <td>2018-02-04</td>\n",
       "      <td>February</td>\n",
       "      <td>1</td>\n",
       "      <td>ŚLĄSKIE</td>\n",
       "      <td>ZAWIERCIAŃSKI</td>\n",
       "      <td>2416065.0</td>\n",
       "      <td>ŚLĄSKIE</td>\n",
       "      <td>ZAWIERCIAŃSKI</td>\n",
       "      <td>2416065.0</td>\n",
       "      <td>...</td>\n",
       "      <td>False</td>\n",
       "      <td>G</td>\n",
       "      <td>46.0</td>\n",
       "      <td>467.0</td>\n",
       "      <td>4677.0</td>\n",
       "      <td>5</td>\n",
       "      <td>9</td>\n",
       "      <td>18</td>\n",
       "      <td>29</td>\n",
       "      <td>False</td>\n",
       "    </tr>\n",
       "    <tr>\n",
       "      <th>2000583</th>\n",
       "      <td>2000583</td>\n",
       "      <td>2018-04-08</td>\n",
       "      <td>March</td>\n",
       "      <td>1</td>\n",
       "      <td>DOLNOŚLĄSKIE</td>\n",
       "      <td>WAŁBRZYCH</td>\n",
       "      <td>265011.0</td>\n",
       "      <td>DOLNOŚLĄSKIE</td>\n",
       "      <td>WAŁBRZYCH</td>\n",
       "      <td>265011.0</td>\n",
       "      <td>...</td>\n",
       "      <td>False</td>\n",
       "      <td>Q</td>\n",
       "      <td>88.0</td>\n",
       "      <td>881.0</td>\n",
       "      <td>8810.0</td>\n",
       "      <td>3</td>\n",
       "      <td>5</td>\n",
       "      <td>7</td>\n",
       "      <td>8</td>\n",
       "      <td>False</td>\n",
       "    </tr>\n",
       "  </tbody>\n",
       "</table>\n",
       "<p>4 rows × 31 columns</p>\n",
       "</div>"
      ],
      "text/plain": [
       "         Unnamed: 0  RandomDate MonthOfStartingOfTheBusiness  \\\n",
       "153592       153592  2017-11-10                         July   \n",
       "1976450     1976450  2018-06-28                      October   \n",
       "821446       821446  2018-02-04                     February   \n",
       "2000583     2000583  2018-04-08                        March   \n",
       "\n",
       "         QuarterOfStartingOfTheBusiness MainAddressVoivodeship  \\\n",
       "153592                                3            MAZOWIECKIE   \n",
       "1976450                               4           DOLNOŚLĄSKIE   \n",
       "821446                                1                ŚLĄSKIE   \n",
       "2000583                               1           DOLNOŚLĄSKIE   \n",
       "\n",
       "        MainAddressCounty  MainAddressTERC CorrespondenceAddressVoivodeship  \\\n",
       "153592           WARSZAWA        1465038.0                      MAZOWIECKIE   \n",
       "1976450           KŁODZKI         208021.0                     DOLNOŚLĄSKIE   \n",
       "821446      ZAWIERCIAŃSKI        2416065.0                          ŚLĄSKIE   \n",
       "2000583         WAŁBRZYCH         265011.0                     DOLNOŚLĄSKIE   \n",
       "\n",
       "        CorrespondenceAddressCounty  CorrespondenceAddressTERC  ...  \\\n",
       "153592                     WARSZAWA                  1465088.0  ...   \n",
       "1976450                     KŁODZKI                   208021.0  ...   \n",
       "821446                ZAWIERCIAŃSKI                  2416065.0  ...   \n",
       "2000583                   WAŁBRZYCH                   265011.0  ...   \n",
       "\n",
       "         ShareholderInOtherCompanies  PKDMainSection  PKDMainDivision  \\\n",
       "153592                         False               M             70.0   \n",
       "1976450                        False               S             95.0   \n",
       "821446                         False               G             46.0   \n",
       "2000583                        False               Q             88.0   \n",
       "\n",
       "         PKDMainGroup  PKDMainClass  NoOfUniquePKDSections  \\\n",
       "153592          702.0        7022.0                      2   \n",
       "1976450         952.0        9522.0                      6   \n",
       "821446          467.0        4677.0                      5   \n",
       "2000583         881.0        8810.0                      3   \n",
       "\n",
       "        NoOfUniquePKDDivsions  NoOfUniquePKDGroups  NoOfUniquePKDClasses  \\\n",
       "153592                      2                    2                     2   \n",
       "1976450                     7                    8                     8   \n",
       "821446                      9                   18                    29   \n",
       "2000583                     5                    7                     8   \n",
       "\n",
       "        Target  \n",
       "153592   False  \n",
       "1976450  False  \n",
       "821446   False  \n",
       "2000583  False  \n",
       "\n",
       "[4 rows x 31 columns]"
      ]
     },
     "execution_count": 4,
     "metadata": {},
     "output_type": "execute_result"
    }
   ],
   "source": [
    "df.sample(4)"
   ]
  },
  {
   "cell_type": "code",
   "execution_count": 5,
   "metadata": {},
   "outputs": [],
   "source": [
    "data = df[['MainAddressVoivodeship', 'PKDMainSection']]"
   ]
  },
  {
   "cell_type": "code",
   "execution_count": 6,
   "metadata": {},
   "outputs": [
    {
     "data": {
      "text/html": [
       "<div>\n",
       "<style scoped>\n",
       "    .dataframe tbody tr th:only-of-type {\n",
       "        vertical-align: middle;\n",
       "    }\n",
       "\n",
       "    .dataframe tbody tr th {\n",
       "        vertical-align: top;\n",
       "    }\n",
       "\n",
       "    .dataframe thead th {\n",
       "        text-align: right;\n",
       "    }\n",
       "</style>\n",
       "<table border=\"1\" class=\"dataframe\">\n",
       "  <thead>\n",
       "    <tr style=\"text-align: right;\">\n",
       "      <th></th>\n",
       "      <th>MainAddressVoivodeship</th>\n",
       "      <th>size</th>\n",
       "    </tr>\n",
       "  </thead>\n",
       "  <tbody>\n",
       "    <tr>\n",
       "      <th>0</th>\n",
       "      <td>DOLNOŚLĄSKIE</td>\n",
       "      <td>23281</td>\n",
       "    </tr>\n",
       "    <tr>\n",
       "      <th>1</th>\n",
       "      <td>KUJAWSKO-POMORSKIE</td>\n",
       "      <td>10904</td>\n",
       "    </tr>\n",
       "    <tr>\n",
       "      <th>2</th>\n",
       "      <td>LUBELSKIE</td>\n",
       "      <td>10328</td>\n",
       "    </tr>\n",
       "    <tr>\n",
       "      <th>3</th>\n",
       "      <td>LUBUSKIE</td>\n",
       "      <td>5303</td>\n",
       "    </tr>\n",
       "    <tr>\n",
       "      <th>4</th>\n",
       "      <td>MAZOWIECKIE</td>\n",
       "      <td>70494</td>\n",
       "    </tr>\n",
       "    <tr>\n",
       "      <th>5</th>\n",
       "      <td>MAŁOPOLSKIE</td>\n",
       "      <td>24967</td>\n",
       "    </tr>\n",
       "    <tr>\n",
       "      <th>6</th>\n",
       "      <td>OPOLSKIE</td>\n",
       "      <td>4875</td>\n",
       "    </tr>\n",
       "    <tr>\n",
       "      <th>7</th>\n",
       "      <td>PODKARPACKIE</td>\n",
       "      <td>10179</td>\n",
       "    </tr>\n",
       "    <tr>\n",
       "      <th>8</th>\n",
       "      <td>PODLASKIE</td>\n",
       "      <td>6224</td>\n",
       "    </tr>\n",
       "    <tr>\n",
       "      <th>9</th>\n",
       "      <td>POMORSKIE</td>\n",
       "      <td>19736</td>\n",
       "    </tr>\n",
       "    <tr>\n",
       "      <th>10</th>\n",
       "      <td>WARMIŃSKO-MAZURSKIE</td>\n",
       "      <td>6997</td>\n",
       "    </tr>\n",
       "    <tr>\n",
       "      <th>11</th>\n",
       "      <td>WIELKOPOLSKIE</td>\n",
       "      <td>27549</td>\n",
       "    </tr>\n",
       "    <tr>\n",
       "      <th>12</th>\n",
       "      <td>ZACHODNIOPOMORSKIE</td>\n",
       "      <td>11616</td>\n",
       "    </tr>\n",
       "    <tr>\n",
       "      <th>13</th>\n",
       "      <td>ŁÓDZKIE</td>\n",
       "      <td>15483</td>\n",
       "    </tr>\n",
       "    <tr>\n",
       "      <th>14</th>\n",
       "      <td>ŚLĄSKIE</td>\n",
       "      <td>28121</td>\n",
       "    </tr>\n",
       "    <tr>\n",
       "      <th>15</th>\n",
       "      <td>ŚWIĘTOKRZYSKIE</td>\n",
       "      <td>5950</td>\n",
       "    </tr>\n",
       "  </tbody>\n",
       "</table>\n",
       "</div>"
      ],
      "text/plain": [
       "   MainAddressVoivodeship   size\n",
       "0            DOLNOŚLĄSKIE  23281\n",
       "1      KUJAWSKO-POMORSKIE  10904\n",
       "2               LUBELSKIE  10328\n",
       "3                LUBUSKIE   5303\n",
       "4             MAZOWIECKIE  70494\n",
       "5             MAŁOPOLSKIE  24967\n",
       "6                OPOLSKIE   4875\n",
       "7            PODKARPACKIE  10179\n",
       "8               PODLASKIE   6224\n",
       "9               POMORSKIE  19736\n",
       "10    WARMIŃSKO-MAZURSKIE   6997\n",
       "11          WIELKOPOLSKIE  27549\n",
       "12     ZACHODNIOPOMORSKIE  11616\n",
       "13                ŁÓDZKIE  15483\n",
       "14                ŚLĄSKIE  28121\n",
       "15         ŚWIĘTOKRZYSKIE   5950"
      ]
     },
     "execution_count": 6,
     "metadata": {},
     "output_type": "execute_result"
    }
   ],
   "source": [
    "data[data['PKDMainSection'] == 'M'].groupby('MainAddressVoivodeship').size().to_frame('size').reset_index()"
   ]
  },
  {
   "cell_type": "raw",
   "metadata": {},
   "source": [
    "v_size = df.groupby('MainAddressVoivodeship').size().to_frame('size').reset_index()"
   ]
  },
  {
   "cell_type": "raw",
   "metadata": {},
   "source": [
    "map_data = pd.merge(v_size, v_id.set_index('nazwa'), left_on='MainAddressVoivodeship', right_index=True)"
   ]
  },
  {
   "cell_type": "raw",
   "metadata": {},
   "source": [
    "fig = px.choropleth(map_data, geojson=geojson, color=\"size\", locations=\"id\", featureidkey=\"properties.id\", projection=\"mercator\", color_continuous_scale=\"peach\",\n",
    "                    labels={'id': 'id województwa', 'size': 'liczba zarejestrowanych działalności'}, hover_name=\"MainAddressVoivodeship\", hover_data=['size'])\n",
    "fig.update_geos(fitbounds=\"locations\", visible=False, lataxis_range=[50,60], lonaxis_range=[0, 30])\n",
    "fig.write_html(\"voivodeships.html\")"
   ]
  },
  {
   "cell_type": "raw",
   "metadata": {},
   "source": [
    "with open('./geo/powiaty-min.geojson', 'r', encoding=\"utf8\") as json_file:\n",
    "    geojson_counties = json.load(json_file)\n",
    "v_id = pd.DataFrame([v['properties'] for v in geojson_counties['features']])\n",
    "v_id['nazwa'] = v_id['nazwa'].str[7:]\n",
    "v_id['nazwa'] = v_id['nazwa'].str.upper()\n",
    "data = df[['MainAddressCounty', 'PKDMainSection']]\n",
    "data[data['PKDMainSection'] == 'M'].groupby('MainAddressCounty').size().to_frame('size').reset_index()\n",
    "v_size = df.groupby('MainAddressCounty').size().to_frame('size').reset_index()\n",
    "map_data = pd.merge(v_size, v_id.set_index('nazwa'), left_on='MainAddressCounty', right_index=True)\n",
    "fig = px.choropleth(map_data, geojson=geojson_counties, color=\"size\", locations=\"id\", featureidkey=\"properties.id\", projection=\"mercator\", color_continuous_scale=\"peach\",\n",
    "                    labels={'id': 'id powiatu', 'size': 'liczba zarejestrowanych działalności'}, hover_name=\"MainAddressCounty\", hover_data=['size'])\n",
    "fig.update_geos(fitbounds=\"locations\", visible=False, lataxis_range=[50,60], lonaxis_range=[0, 30])\n",
    "fig.write_html(\"powiats.html\")"
   ]
  },
  {
   "cell_type": "code",
   "execution_count": 7,
   "metadata": {
    "scrolled": true
   },
   "outputs": [
    {
     "name": "stdout",
     "output_type": "stream",
     "text": [
      "MainAddressVoivodeship\n",
      "DOLNOŚLĄSKIE           K\n",
      "KUJAWSKO-POMORSKIE     D\n",
      "LUBELSKIE              B\n",
      "LUBUSKIE               S\n",
      "MAZOWIECKIE            M\n",
      "MAŁOPOLSKIE            R\n",
      "OPOLSKIE               K\n",
      "PODKARPACKIE           B\n",
      "PODLASKIE              A\n",
      "POMORSKIE              O\n",
      "WARMIŃSKO-MAZURSKIE    Q\n",
      "WIELKOPOLSKIE          N\n",
      "ZACHODNIOPOMORSKIE     I\n",
      "ŁÓDZKIE                G\n",
      "ŚLĄSKIE                K\n",
      "ŚWIĘTOKRZYSKIE         E\n",
      "Name: Max, dtype: object\n",
      "MainAddressVoivodeship\n",
      "DOLNOŚLĄSKIE           F\n",
      "KUJAWSKO-POMORSKIE     D\n",
      "LUBELSKIE              B\n",
      "LUBUSKIE               O\n",
      "MAZOWIECKIE            J\n",
      "MAŁOPOLSKIE            F\n",
      "OPOLSKIE               O\n",
      "PODKARPACKIE           B\n",
      "PODLASKIE              A\n",
      "POMORSKIE              O\n",
      "WARMIŃSKO-MAZURSKIE    A\n",
      "WIELKOPOLSKIE          A\n",
      "ZACHODNIOPOMORSKIE     I\n",
      "ŁÓDZKIE                B\n",
      "ŚLĄSKIE                C\n",
      "ŚWIĘTOKRZYSKIE         E\n",
      "Name: Max, dtype: object\n"
     ]
    }
   ],
   "source": [
    "data = df[['MainAddressVoivodeship', 'MainAddressCounty', 'PKDMainSection']]\n",
    "matrix = data.groupby(['MainAddressVoivodeship','PKDMainSection']).size().unstack(fill_value=0)\n",
    "matrix_proportions = matrix.div(matrix.sum(axis=1), axis=0)\n",
    "normalized = matrix_proportions.apply(zscore)\n",
    "normalized['Max'] = normalized.idxmax(axis=1)\n",
    "print(normalized['Max'])\n",
    "\n",
    "normalized_absolute = matrix.apply(zscore)\n",
    "# mało działalności z T, więc pomijamy, bo wywala w kosmos Z Score jak już coś jest\n",
    "normalized_absolute['Max'] = normalized_absolute.iloc[:,:-1].idxmax(axis=1)\n",
    "print(normalized_absolute['Max'])"
   ]
  },
  {
   "cell_type": "code",
   "execution_count": 8,
   "metadata": {},
   "outputs": [
    {
     "name": "stdout",
     "output_type": "stream",
     "text": [
      "        PKDMainSection  PKDMainDivision  PKDMainGroup  PKDMainClass\n",
      "1                    M             71.0         711.0        7112.0\n",
      "2                    C             14.0         141.0        1412.0\n",
      "3                    G             46.0         461.0        4619.0\n",
      "4                    C             11.0         110.0        1107.0\n",
      "5                    L             68.0         682.0        6820.0\n",
      "...                ...              ...           ...           ...\n",
      "2013867              K             65.0         653.0        6530.0\n",
      "2216634              C             11.0         110.0        1106.0\n",
      "2221395              B              5.0          52.0         520.0\n",
      "2227038              O             84.0         841.0        8413.0\n",
      "2316879              O             84.0         841.0        8411.0\n",
      "\n",
      "[588 rows x 4 columns]\n"
     ]
    }
   ],
   "source": [
    "data = df[['MainAddressVoivodeship', 'MainAddressCounty', 'PKDMainSection', 'PKDMainDivision',\n",
    "          'PKDMainGroup', 'PKDMainClass']]\n",
    "possible_classification_combinations = data[['PKDMainSection', 'PKDMainDivision', 'PKDMainGroup', 'PKDMainClass']].drop_duplicates().dropna()\n",
    "print(possible_classification_combinations)"
   ]
  },
  {
   "cell_type": "code",
   "execution_count": null,
   "metadata": {},
   "outputs": [
    {
     "name": "stdout",
     "output_type": "stream",
     "text": [
      " * Serving Flask app \"__main__\" (lazy loading)\n",
      " * Environment: production\n",
      "   WARNING: This is a development server. Do not use it in a production deployment.\n",
      "   Use a production WSGI server instead.\n",
      " * Debug mode: off\n"
     ]
    },
    {
     "name": "stderr",
     "output_type": "stream",
     "text": [
      " * Running on http://127.0.0.1:8050/ (Press CTRL+C to quit)\n",
      "127.0.0.1 - - [12/May/2020 19:38:50] \"\u001b[37mGET / HTTP/1.1\u001b[0m\" 200 -\n",
      "127.0.0.1 - - [12/May/2020 19:38:50] \"\u001b[37mGET /_dash-layout HTTP/1.1\u001b[0m\" 200 -\n",
      "127.0.0.1 - - [12/May/2020 19:38:50] \"\u001b[37mGET /_dash-dependencies HTTP/1.1\u001b[0m\" 200 -\n",
      "127.0.0.1 - - [12/May/2020 19:38:50] \"\u001b[37mGET /_favicon.ico?v=1.12.0 HTTP/1.1\u001b[0m\" 200 -\n",
      "127.0.0.1 - - [12/May/2020 19:38:50] \"\u001b[37mPOST /_dash-update-component HTTP/1.1\u001b[0m\" 200 -\n",
      "127.0.0.1 - - [12/May/2020 19:38:50] \"\u001b[37mPOST /_dash-update-component HTTP/1.1\u001b[0m\" 200 -\n",
      "127.0.0.1 - - [12/May/2020 19:38:50] \"\u001b[37mPOST /_dash-update-component HTTP/1.1\u001b[0m\" 200 -\n",
      "127.0.0.1 - - [12/May/2020 19:38:50] \"\u001b[37mPOST /_dash-update-component HTTP/1.1\u001b[0m\" 200 -\n",
      "127.0.0.1 - - [12/May/2020 19:38:50] \"\u001b[37mPOST /_dash-update-component HTTP/1.1\u001b[0m\" 200 -\n",
      "127.0.0.1 - - [12/May/2020 19:38:50] \"\u001b[37mPOST /_dash-update-component HTTP/1.1\u001b[0m\" 200 -\n"
     ]
    },
    {
     "name": "stdout",
     "output_type": "stream",
     "text": [
      "None\n",
      "None\n",
      "voivodeships\n",
      "None\n",
      "None\n"
     ]
    },
    {
     "name": "stderr",
     "output_type": "stream",
     "text": [
      "127.0.0.1 - - [12/May/2020 19:38:51] \"\u001b[37mPOST /_dash-update-component HTTP/1.1\u001b[0m\" 200 -\n"
     ]
    },
    {
     "name": "stdout",
     "output_type": "stream",
     "text": [
      "None\n",
      "None\n",
      "counties\n",
      "None\n",
      "None\n"
     ]
    },
    {
     "name": "stderr",
     "output_type": "stream",
     "text": [
      "127.0.0.1 - - [12/May/2020 19:38:53] \"\u001b[37mPOST /_dash-update-component HTTP/1.1\u001b[0m\" 200 -\n",
      "127.0.0.1 - - [12/May/2020 19:38:55] \"\u001b[37mPOST /_dash-update-component HTTP/1.1\u001b[0m\" 200 -\n",
      "127.0.0.1 - - [12/May/2020 19:38:55] \"\u001b[37mPOST /_dash-update-component HTTP/1.1\u001b[0m\" 200 -\n",
      "127.0.0.1 - - [12/May/2020 19:38:55] \"\u001b[37mPOST /_dash-update-component HTTP/1.1\u001b[0m\" 200 -\n",
      "127.0.0.1 - - [12/May/2020 19:38:55] \"\u001b[37mPOST /_dash-update-component HTTP/1.1\u001b[0m\" 200 -\n",
      "127.0.0.1 - - [12/May/2020 19:38:55] \"\u001b[37mPOST /_dash-update-component HTTP/1.1\u001b[0m\" 200 -\n",
      "127.0.0.1 - - [12/May/2020 19:38:55] \"\u001b[37mPOST /_dash-update-component HTTP/1.1\u001b[0m\" 200 -\n"
     ]
    },
    {
     "name": "stdout",
     "output_type": "stream",
     "text": [
      "B\n",
      "None\n",
      "counties\n",
      "None\n",
      "None\n"
     ]
    },
    {
     "name": "stderr",
     "output_type": "stream",
     "text": [
      "127.0.0.1 - - [12/May/2020 19:38:55] \"\u001b[37mPOST /_dash-update-component HTTP/1.1\u001b[0m\" 200 -\n",
      "127.0.0.1 - - [12/May/2020 19:38:57] \"\u001b[37mPOST /_dash-update-component HTTP/1.1\u001b[0m\" 200 -\n",
      "127.0.0.1 - - [12/May/2020 19:38:57] \"\u001b[37mPOST /_dash-update-component HTTP/1.1\u001b[0m\" 200 -\n",
      "127.0.0.1 - - [12/May/2020 19:38:57] \"\u001b[37mPOST /_dash-update-component HTTP/1.1\u001b[0m\" 200 -\n",
      "127.0.0.1 - - [12/May/2020 19:38:57] \"\u001b[37mPOST /_dash-update-component HTTP/1.1\u001b[0m\" 200 -\n"
     ]
    },
    {
     "name": "stdout",
     "output_type": "stream",
     "text": [
      "B\n",
      "6\n",
      "counties\n",
      "None\n",
      "None\n"
     ]
    },
    {
     "name": "stderr",
     "output_type": "stream",
     "text": [
      "127.0.0.1 - - [12/May/2020 19:38:57] \"\u001b[37mPOST /_dash-update-component HTTP/1.1\u001b[0m\" 200 -\n",
      "127.0.0.1 - - [12/May/2020 19:38:59] \"\u001b[37mPOST /_dash-update-component HTTP/1.1\u001b[0m\" 200 -\n",
      "127.0.0.1 - - [12/May/2020 19:38:59] \"\u001b[37mPOST /_dash-update-component HTTP/1.1\u001b[0m\" 200 -\n"
     ]
    },
    {
     "name": "stdout",
     "output_type": "stream",
     "text": [
      "B\n",
      "6\n",
      "counties\n",
      "61\n",
      "None\n"
     ]
    },
    {
     "name": "stderr",
     "output_type": "stream",
     "text": [
      "127.0.0.1 - - [12/May/2020 19:38:59] \"\u001b[37mPOST /_dash-update-component HTTP/1.1\u001b[0m\" 200 -\n"
     ]
    },
    {
     "name": "stdout",
     "output_type": "stream",
     "text": [
      "B\n",
      "6\n",
      "counties\n",
      "61\n",
      "610\n"
     ]
    },
    {
     "name": "stderr",
     "output_type": "stream",
     "text": [
      "127.0.0.1 - - [12/May/2020 19:39:02] \"\u001b[37mPOST /_dash-update-component HTTP/1.1\u001b[0m\" 200 -\n",
      "127.0.0.1 - - [12/May/2020 19:39:04] \"\u001b[37mPOST /_dash-update-component HTTP/1.1\u001b[0m\" 200 -\n",
      "127.0.0.1 - - [12/May/2020 19:39:04] \"\u001b[37mPOST /_dash-update-component HTTP/1.1\u001b[0m\" 200 -\n",
      "127.0.0.1 - - [12/May/2020 19:39:04] \"\u001b[37mPOST /_dash-update-component HTTP/1.1\u001b[0m\" 200 -\n",
      "127.0.0.1 - - [12/May/2020 19:39:04] \"\u001b[37mPOST /_dash-update-component HTTP/1.1\u001b[0m\" 200 -\n"
     ]
    },
    {
     "name": "stdout",
     "output_type": "stream",
     "text": [
      "B\n",
      "5\n",
      "counties\n",
      "None\n",
      "None\n"
     ]
    },
    {
     "name": "stderr",
     "output_type": "stream",
     "text": [
      "127.0.0.1 - - [12/May/2020 19:39:04] \"\u001b[37mPOST /_dash-update-component HTTP/1.1\u001b[0m\" 200 -\n",
      "127.0.0.1 - - [12/May/2020 19:39:05] \"\u001b[37mPOST /_dash-update-component HTTP/1.1\u001b[0m\" 200 -\n",
      "127.0.0.1 - - [12/May/2020 19:39:05] \"\u001b[37mPOST /_dash-update-component HTTP/1.1\u001b[0m\" 200 -\n"
     ]
    },
    {
     "name": "stdout",
     "output_type": "stream",
     "text": [
      "B\n",
      "5\n",
      "counties\n",
      "52\n",
      "None\n"
     ]
    },
    {
     "name": "stderr",
     "output_type": "stream",
     "text": [
      "127.0.0.1 - - [12/May/2020 19:39:06] \"\u001b[37mPOST /_dash-update-component HTTP/1.1\u001b[0m\" 200 -\n",
      "127.0.0.1 - - [12/May/2020 19:39:17] \"\u001b[37mPOST /_dash-update-component HTTP/1.1\u001b[0m\" 200 -\n",
      "127.0.0.1 - - [12/May/2020 19:39:17] \"\u001b[37mPOST /_dash-update-component HTTP/1.1\u001b[0m\" 200 -\n",
      "127.0.0.1 - - [12/May/2020 19:39:17] \"\u001b[37mPOST /_dash-update-component HTTP/1.1\u001b[0m\" 200 -\n",
      "127.0.0.1 - - [12/May/2020 19:39:17] \"\u001b[37mPOST /_dash-update-component HTTP/1.1\u001b[0m\" 200 -\n",
      "127.0.0.1 - - [12/May/2020 19:39:17] \"\u001b[37mPOST /_dash-update-component HTTP/1.1\u001b[0m\" 200 -\n",
      "127.0.0.1 - - [12/May/2020 19:39:17] \"\u001b[37mPOST /_dash-update-component HTTP/1.1\u001b[0m\" 200 -\n"
     ]
    },
    {
     "name": "stdout",
     "output_type": "stream",
     "text": [
      "O\n",
      "None\n",
      "counties\n",
      "None\n",
      "None\n"
     ]
    },
    {
     "name": "stderr",
     "output_type": "stream",
     "text": [
      "127.0.0.1 - - [12/May/2020 19:39:17] \"\u001b[37mPOST /_dash-update-component HTTP/1.1\u001b[0m\" 200 -\n",
      "127.0.0.1 - - [12/May/2020 19:39:20] \"\u001b[37mPOST /_dash-update-component HTTP/1.1\u001b[0m\" 200 -\n",
      "127.0.0.1 - - [12/May/2020 19:39:20] \"\u001b[37mPOST /_dash-update-component HTTP/1.1\u001b[0m\" 200 -\n",
      "127.0.0.1 - - [12/May/2020 19:39:20] \"\u001b[37mPOST /_dash-update-component HTTP/1.1\u001b[0m\" 200 -\n",
      "127.0.0.1 - - [12/May/2020 19:39:20] \"\u001b[37mPOST /_dash-update-component HTTP/1.1\u001b[0m\" 200 -\n"
     ]
    },
    {
     "name": "stdout",
     "output_type": "stream",
     "text": [
      "O\n",
      "84\n",
      "counties\n",
      "None\n",
      "None\n"
     ]
    },
    {
     "name": "stderr",
     "output_type": "stream",
     "text": [
      "127.0.0.1 - - [12/May/2020 19:39:20] \"\u001b[37mPOST /_dash-update-component HTTP/1.1\u001b[0m\" 200 -\n",
      "127.0.0.1 - - [12/May/2020 19:39:22] \"\u001b[37mPOST /_dash-update-component HTTP/1.1\u001b[0m\" 200 -\n",
      "127.0.0.1 - - [12/May/2020 19:39:22] \"\u001b[37mPOST /_dash-update-component HTTP/1.1\u001b[0m\" 200 -\n"
     ]
    },
    {
     "name": "stdout",
     "output_type": "stream",
     "text": [
      "O\n",
      "84\n",
      "counties\n",
      "841\n",
      "None\n"
     ]
    },
    {
     "name": "stderr",
     "output_type": "stream",
     "text": [
      "127.0.0.1 - - [12/May/2020 19:39:22] \"\u001b[37mPOST /_dash-update-component HTTP/1.1\u001b[0m\" 200 -\n",
      "127.0.0.1 - - [12/May/2020 19:39:24] \"\u001b[37mPOST /_dash-update-component HTTP/1.1\u001b[0m\" 200 -\n",
      "127.0.0.1 - - [12/May/2020 19:39:24] \"\u001b[37mPOST /_dash-update-component HTTP/1.1\u001b[0m\" 200 -\n"
     ]
    },
    {
     "name": "stdout",
     "output_type": "stream",
     "text": [
      "O\n",
      "84\n",
      "counties\n",
      "842\n",
      "None\n"
     ]
    },
    {
     "name": "stderr",
     "output_type": "stream",
     "text": [
      "127.0.0.1 - - [12/May/2020 19:39:24] \"\u001b[37mPOST /_dash-update-component HTTP/1.1\u001b[0m\" 200 -\n"
     ]
    },
    {
     "name": "stdout",
     "output_type": "stream",
     "text": [
      "O\n",
      "84\n",
      "counties\n",
      "842\n",
      "8425\n"
     ]
    },
    {
     "name": "stderr",
     "output_type": "stream",
     "text": [
      "127.0.0.1 - - [12/May/2020 19:39:26] \"\u001b[37mPOST /_dash-update-component HTTP/1.1\u001b[0m\" 200 -\n"
     ]
    },
    {
     "name": "stdout",
     "output_type": "stream",
     "text": [
      "O\n",
      "84\n",
      "counties\n",
      "842\n",
      "8422\n"
     ]
    },
    {
     "name": "stderr",
     "output_type": "stream",
     "text": [
      "127.0.0.1 - - [12/May/2020 19:39:29] \"\u001b[37mPOST /_dash-update-component HTTP/1.1\u001b[0m\" 200 -\n",
      "127.0.0.1 - - [12/May/2020 19:42:08] \"\u001b[37mPOST /_dash-update-component HTTP/1.1\u001b[0m\" 200 -\n",
      "127.0.0.1 - - [12/May/2020 19:42:08] \"\u001b[37mPOST /_dash-update-component HTTP/1.1\u001b[0m\" 200 -\n",
      "127.0.0.1 - - [12/May/2020 19:42:08] \"\u001b[37mPOST /_dash-update-component HTTP/1.1\u001b[0m\" 200 -\n",
      "127.0.0.1 - - [12/May/2020 19:42:08] \"\u001b[37mPOST /_dash-update-component HTTP/1.1\u001b[0m\" 200 -\n",
      "127.0.0.1 - - [12/May/2020 19:42:08] \"\u001b[37mPOST /_dash-update-component HTTP/1.1\u001b[0m\" 200 -\n",
      "127.0.0.1 - - [12/May/2020 19:42:08] \"\u001b[37mPOST /_dash-update-component HTTP/1.1\u001b[0m\" 200 -\n"
     ]
    },
    {
     "name": "stdout",
     "output_type": "stream",
     "text": [
      "L\n",
      "None\n",
      "counties\n",
      "None\n",
      "None\n"
     ]
    },
    {
     "name": "stderr",
     "output_type": "stream",
     "text": [
      "127.0.0.1 - - [12/May/2020 19:42:09] \"\u001b[37mPOST /_dash-update-component HTTP/1.1\u001b[0m\" 200 -\n",
      "127.0.0.1 - - [12/May/2020 19:42:10] \"\u001b[37mPOST /_dash-update-component HTTP/1.1\u001b[0m\" 200 -\n",
      "127.0.0.1 - - [12/May/2020 19:42:10] \"\u001b[37mPOST /_dash-update-component HTTP/1.1\u001b[0m\" 200 -\n",
      "127.0.0.1 - - [12/May/2020 19:42:10] \"\u001b[37mPOST /_dash-update-component HTTP/1.1\u001b[0m\" 200 -\n",
      "127.0.0.1 - - [12/May/2020 19:42:10] \"\u001b[37mPOST /_dash-update-component HTTP/1.1\u001b[0m\" 200 -\n"
     ]
    },
    {
     "name": "stdout",
     "output_type": "stream",
     "text": [
      "L\n",
      "68\n",
      "counties\n",
      "None\n",
      "None\n"
     ]
    },
    {
     "name": "stderr",
     "output_type": "stream",
     "text": [
      "127.0.0.1 - - [12/May/2020 19:42:10] \"\u001b[37mPOST /_dash-update-component HTTP/1.1\u001b[0m\" 200 -\n",
      "127.0.0.1 - - [12/May/2020 19:42:11] \"\u001b[37mPOST /_dash-update-component HTTP/1.1\u001b[0m\" 200 -\n",
      "127.0.0.1 - - [12/May/2020 19:42:11] \"\u001b[37mPOST /_dash-update-component HTTP/1.1\u001b[0m\" 200 -\n"
     ]
    },
    {
     "name": "stdout",
     "output_type": "stream",
     "text": [
      "L\n",
      "68\n",
      "counties\n",
      "682\n",
      "None\n"
     ]
    },
    {
     "name": "stderr",
     "output_type": "stream",
     "text": [
      "127.0.0.1 - - [12/May/2020 19:42:11] \"\u001b[37mPOST /_dash-update-component HTTP/1.1\u001b[0m\" 200 -\n"
     ]
    },
    {
     "name": "stdout",
     "output_type": "stream",
     "text": [
      "L\n",
      "68\n",
      "counties\n",
      "682\n",
      "6820\n"
     ]
    },
    {
     "name": "stderr",
     "output_type": "stream",
     "text": [
      "127.0.0.1 - - [12/May/2020 19:42:13] \"\u001b[37mPOST /_dash-update-component HTTP/1.1\u001b[0m\" 200 -\n"
     ]
    }
   ],
   "source": [
    "with open('./geo/wojewodztwa-min.geojson', 'r', encoding=\"utf8\") as json_file:\n",
    "    geojson_voivodeships = json.load(json_file)\n",
    "\n",
    "with open('./geo/powiaty-min.geojson', 'r', encoding=\"utf8\") as json_file:\n",
    "    geojson_counties = json.load(json_file)\n",
    "\n",
    "data = df[['MainAddressVoivodeship', 'MainAddressCounty', 'PKDMainSection', 'PKDMainDivision',\n",
    "          'PKDMainGroup', 'PKDMainClass']]\n",
    "sections = sorted([x for x in data['PKDMainSection'].unique() if str(x) != 'nan'])\n",
    "possible_classification_combinations = data[['PKDMainSection', 'PKDMainDivision', 'PKDMainGroup', 'PKDMainClass']].drop_duplicates().dropna()\n",
    "section_options = [dict(label=x, value=x) for x in sections]\n",
    "\n",
    "app = dash.Dash(\n",
    "    __name__, external_stylesheets=[dbc.themes.BOOTSTRAP]\n",
    ")\n",
    "\n",
    "\n",
    "controls = dbc.Card([\n",
    "        dbc.FormGroup(\n",
    "            [ \n",
    "                dbc.Label(\"Podział\"),\n",
    "                dcc.Dropdown(id=\"Podział\", value='voivodeships', options=[\n",
    "                    {'label': 'Województwa', 'value': 'voivodeships'}, {'label': 'Powiaty', 'value': 'counties'}\n",
    "                ])\n",
    "            ]\n",
    "        ),\n",
    "        dbc.FormGroup(\n",
    "            [ \n",
    "                dbc.Label(\"Sekcja\"),\n",
    "                dcc.Dropdown(id=\"section-dropdown\", options=section_options)\n",
    "            ]\n",
    "        ),\n",
    "        dbc.FormGroup(\n",
    "            [ \n",
    "                dbc.Label(\"Dział\"),\n",
    "                dcc.Dropdown(id=\"division-dropdown\")\n",
    "            ]\n",
    "        ),\n",
    "        dbc.FormGroup(\n",
    "            [ \n",
    "                dbc.Label(\"Grupa\"),\n",
    "                dcc.Dropdown(id=\"group-dropdown\")\n",
    "            ]\n",
    "        ),\n",
    "        dbc.FormGroup(\n",
    "            [ \n",
    "                dbc.Label(\"Klasa\"),\n",
    "                dcc.Dropdown(id=\"class-dropdown\")\n",
    "            ]\n",
    "        )\n",
    "    ],\n",
    "    body=True)\n",
    "\n",
    "\n",
    "app.layout = dbc.Container(\n",
    "    [\n",
    "        html.H2(\"Charakterystyka przestrzenna działalności gospodarczej\"),\n",
    "        html.Hr(),\n",
    "        dbc.Row(\n",
    "            [\n",
    "                dbc.Col(controls, md=3),\n",
    "                dbc.Col(dcc.Graph(id=\"graph\"), md=9),\n",
    "            ],\n",
    "            align=\"left\"\n",
    "        )\n",
    "    ]\n",
    ")\n",
    "\n",
    "\n",
    "@app.callback(Output(\"graph\", \"figure\"), [\n",
    "        Input(\"section-dropdown\", \"value\"),\n",
    "        Input(\"division-dropdown\", \"value\"),\n",
    "        Input(\"group-dropdown\", \"value\"),\n",
    "        Input(\"class-dropdown\", \"value\"),\n",
    "        Input(\"Podział\", \"value\")\n",
    "    ])\n",
    "def make_figure(section, division, group, _class, area_division):\n",
    "    print(section)\n",
    "    print(division)\n",
    "    print(area_division)\n",
    "    print(group)\n",
    "    print(_class)\n",
    "    if area_division is None or area_division == \"voivodeships\":\n",
    "        if section is None:\n",
    "            v_size = data.groupby('MainAddressVoivodeship').size().to_frame('size').reset_index()\n",
    "        elif division is None:\n",
    "            v_size = data[data['PKDMainSection'] == section].groupby('MainAddressVoivodeship').size().to_frame('size').reset_index()\n",
    "        elif group is None:\n",
    "            v_size = data[data['PKDMainDivision'] == division].groupby('MainAddressVoivodeship').size().to_frame('size').reset_index()\n",
    "        elif _class is None:\n",
    "            v_size = data[data['PKDMainGroup'] == group].groupby('MainAddressVoivodeship').size().to_frame('size').reset_index()\n",
    "        else:\n",
    "            v_size = data[data['PKDMainClass'] == _class].groupby('MainAddressVoivodeship').size().to_frame('size').reset_index()\n",
    "        geojson = geojson_voivodeships\n",
    "        v_id = pd.DataFrame([v['properties'] for v in geojson['features']])\n",
    "        v_id['nazwa'] = v_id['nazwa'].str.upper()\n",
    "        map_data = pd.merge(v_size, v_id.set_index('nazwa'), left_on='MainAddressVoivodeship', right_index=True)\n",
    "        fig = px.choropleth(map_data, geojson=geojson, color=\"size\", locations=\"id\", featureidkey=\"properties.id\", projection=\"mercator\", color_continuous_scale=\"peach\", \n",
    "                    labels={'id': 'id województwa', 'size': 'liczba firm'}, hover_name=\"MainAddressVoivodeship\", hover_data=['size'],\n",
    "                           height=800)\n",
    "    else:\n",
    "        if section is None:\n",
    "            v_size = data.groupby('MainAddressCounty').size().to_frame('size').reset_index()\n",
    "        elif division is None:\n",
    "            v_size = data[data['PKDMainSection'] == section].groupby('MainAddressCounty').size().to_frame('size').reset_index()\n",
    "        elif group is None:\n",
    "            v_size = data[data['PKDMainDivision'] == division].groupby('MainAddressCounty').size().to_frame('size').reset_index()\n",
    "        elif _class is None:\n",
    "            v_size = data[data['PKDMainGroup'] == group].groupby('MainAddressCounty').size().to_frame('size').reset_index()\n",
    "        else:\n",
    "            v_size = data[data['PKDMainClass'] == _class].groupby('MainAddressCounty').size().to_frame('size').reset_index()\n",
    "        geojson = geojson_counties\n",
    "        v_id = pd.DataFrame([v['properties'] for v in geojson_counties['features']])\n",
    "        v_id['nazwa'] = v_id['nazwa'].str[7:]\n",
    "        v_id['nazwa'] = v_id['nazwa'].str.upper()\n",
    "        map_data = pd.merge(v_size, v_id.set_index('nazwa'), left_on='MainAddressCounty', right_index=True)\n",
    "        fig = px.choropleth(map_data, geojson=geojson, color=\"size\", locations=\"id\", featureidkey=\"properties.id\", projection=\"mercator\", color_continuous_scale=\"peach\", \n",
    "                            labels={'id': 'id powiatu', 'size': 'liczba firm'}, hover_name=\"MainAddressCounty\", hover_data=['size'],\n",
    "                           height=800)\n",
    "    fig.update_geos(fitbounds=\"locations\", visible=False, lataxis_range=[50,60], lonaxis_range=[0, 30])\n",
    "    return fig\n",
    "\n",
    "@app.callback(Output(\"division-dropdown\", \"options\"), [Input(\"section-dropdown\", \"value\")])\n",
    "def get_division_options(section):\n",
    "    divisions = sorted([x for x in possible_classification_combinations.loc[possible_classification_combinations['PKDMainSection'] == section]['PKDMainDivision'].unique()])\n",
    "    division_options = [dict(label=x, value=x) for x in divisions]\n",
    "    return division_options\n",
    "\n",
    "@app.callback(Output(\"division-dropdown\", \"value\"), [Input(\"section-dropdown\", \"value\")])\n",
    "def reset_division_value_on_section_change(section):\n",
    "    return None\n",
    "\n",
    "@app.callback(Output(\"group-dropdown\", \"options\"), [Input(\"division-dropdown\", \"value\")])\n",
    "def get_group_options(division):\n",
    "    groups = sorted([x for x in possible_classification_combinations.loc[possible_classification_combinations['PKDMainDivision'] == division]['PKDMainGroup'].unique()])\n",
    "    group_options = [dict(label=x, value=x) for x in groups]\n",
    "    return group_options\n",
    "\n",
    "@app.callback(Output(\"group-dropdown\", \"value\"), [Input(\"section-dropdown\", \"value\"), Input(\"division-dropdown\", \"value\")])\n",
    "def reset_group_value_on_section_or_division_change(section, division):\n",
    "    return None\n",
    "\n",
    "@app.callback(Output(\"class-dropdown\", \"options\"), [Input(\"group-dropdown\", \"value\")])\n",
    "def get_division_options(group):\n",
    "    classes = sorted([x for x in possible_classification_combinations.loc[possible_classification_combinations['PKDMainGroup'] == group]['PKDMainClass'].unique()])\n",
    "    class_options = [dict(label=x, value=x) for x in classes]\n",
    "    return class_options\n",
    "\n",
    "@app.callback(Output(\"class-dropdown\", \"value\"), [\n",
    "        Input(\"section-dropdown\", \"value\"),\n",
    "        Input(\"division-dropdown\", \"value\"),\n",
    "        Input(\"group-dropdown\", \"value\")])\n",
    "def reset_class_value_on_section_or_division_or_group_change(section, division, group):\n",
    "    return None\n",
    "\n",
    "app.run_server()"
   ]
  },
  {
   "cell_type": "code",
   "execution_count": null,
   "metadata": {},
   "outputs": [],
   "source": []
  }
 ],
 "metadata": {
  "kernelspec": {
   "display_name": "Python 3",
   "language": "python",
   "name": "python3"
  },
  "language_info": {
   "codemirror_mode": {
    "name": "ipython",
    "version": 3
   },
   "file_extension": ".py",
   "mimetype": "text/x-python",
   "name": "python",
   "nbconvert_exporter": "python",
   "pygments_lexer": "ipython3",
   "version": "3.8.3rc1"
  }
 },
 "nbformat": 4,
 "nbformat_minor": 4
}
