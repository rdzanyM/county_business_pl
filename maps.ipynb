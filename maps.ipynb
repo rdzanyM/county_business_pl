{
 "cells": [
  {
   "cell_type": "code",
   "execution_count": 1,
   "metadata": {},
   "outputs": [],
   "source": [
    "import os\n",
    "import json\n",
    "import numpy as np\n",
    "import pandas as pd\n",
    "import plotly.express as px\n",
    "from scipy.stats import zscore\n",
    "\n",
    "import dash\n",
    "import dash_core_components as dcc\n",
    "import dash_html_components as html\n",
    "from dash.dependencies import Input, Output\n",
    "import dash_bootstrap_components as dbc"
   ]
  },
  {
   "cell_type": "raw",
   "metadata": {},
   "source": [
    "os.chdir('./data_cleaning')\n",
    "!python data_cleaner.py\n",
    "os.chdir('..')"
   ]
  },
  {
   "cell_type": "code",
   "execution_count": 3,
   "metadata": {},
   "outputs": [],
   "source": [
    "with open('./geo/wojewodztwa-min.geojson', 'r', encoding=\"utf8\") as json_file:\n",
    "    geojson = json.load(json_file)\n",
    "v_id = pd.DataFrame([v['properties'] for v in geojson['features']])\n",
    "v_id['nazwa'] = v_id['nazwa'].str.upper()"
   ]
  },
  {
   "cell_type": "code",
   "execution_count": 4,
   "metadata": {},
   "outputs": [],
   "source": [
    "df = pd.read_csv('./data/ceidg_data_classif_cleaned.csv')"
   ]
  },
  {
   "cell_type": "code",
   "execution_count": 6,
   "metadata": {},
   "outputs": [
    {
     "output_type": "execute_result",
     "data": {
      "text/plain": "         Unnamed: 0  RandomDate MonthOfStartingOfTheBusiness  \\\n1997305     1997305  2018-09-18                        April   \n963492       963492  2018-05-10                     February   \n726538       726538  2018-05-17                        March   \n578620       578620  2018-10-18                          May   \n\n         QuarterOfStartingOfTheBusiness MainAddressVoivodeship  \\\n1997305                               2           DOLNOŚLĄSKIE   \n963492                                1            MAŁOPOLSKIE   \n726538                                1                ŚLĄSKIE   \n578620                                2               LUBUSKIE   \n\n           MainAddressCounty  MainAddressTERC  \\\n1997305           WAŁBRZYSKI         221055.0   \n963492            MYŚLENICKI        1209035.0   \n726538              KATOWICE        2469011.0   \n578620   GORZÓW WIELKOPOLSKI         861011.0   \n\n        CorrespondenceAddressVoivodeship CorrespondenceAddressCounty  \\\n1997305                     DOLNOŚLĄSKIE                  WAŁBRZYSKI   \n963492                       MAŁOPOLSKIE                  MYŚLENICKI   \n726538                           ŚLĄSKIE                    KATOWICE   \n578620                          LUBUSKIE         GORZÓW WIELKOPOLSKI   \n\n         CorrespondenceAddressTERC  ...  ShareholderInOtherCompanies  \\\n1997305                   221055.0  ...                        False   \n963492                   1209035.0  ...                        False   \n726538                   2469011.0  ...                        False   \n578620                    861011.0  ...                        False   \n\n         PKDMainSection  PKDMainDivision  PKDMainGroup  PKDMainClass  \\\n1997305               I             55.0         552.0        5520.0   \n963492                Q             86.0         869.0        8690.0   \n726538                G             47.0         471.0        4711.0   \n578620                F             43.0         432.0        4322.0   \n\n         NoOfUniquePKDSections NoOfUniquePKDDivsions  NoOfUniquePKDGroups  \\\n1997305                      2                     2                    4   \n963492                       1                     1                    1   \n726538                       1                     1                    1   \n578620                       2                     2                    2   \n\n         NoOfUniquePKDClasses Target  \n1997305                     4  False  \n963492                      1   True  \n726538                      1   True  \n578620                      4  False  \n\n[4 rows x 31 columns]",
      "text/html": "<div>\n<style scoped>\n    .dataframe tbody tr th:only-of-type {\n        vertical-align: middle;\n    }\n\n    .dataframe tbody tr th {\n        vertical-align: top;\n    }\n\n    .dataframe thead th {\n        text-align: right;\n    }\n</style>\n<table border=\"1\" class=\"dataframe\">\n  <thead>\n    <tr style=\"text-align: right;\">\n      <th></th>\n      <th>Unnamed: 0</th>\n      <th>RandomDate</th>\n      <th>MonthOfStartingOfTheBusiness</th>\n      <th>QuarterOfStartingOfTheBusiness</th>\n      <th>MainAddressVoivodeship</th>\n      <th>MainAddressCounty</th>\n      <th>MainAddressTERC</th>\n      <th>CorrespondenceAddressVoivodeship</th>\n      <th>CorrespondenceAddressCounty</th>\n      <th>CorrespondenceAddressTERC</th>\n      <th>...</th>\n      <th>ShareholderInOtherCompanies</th>\n      <th>PKDMainSection</th>\n      <th>PKDMainDivision</th>\n      <th>PKDMainGroup</th>\n      <th>PKDMainClass</th>\n      <th>NoOfUniquePKDSections</th>\n      <th>NoOfUniquePKDDivsions</th>\n      <th>NoOfUniquePKDGroups</th>\n      <th>NoOfUniquePKDClasses</th>\n      <th>Target</th>\n    </tr>\n  </thead>\n  <tbody>\n    <tr>\n      <th>1997305</th>\n      <td>1997305</td>\n      <td>2018-09-18</td>\n      <td>April</td>\n      <td>2</td>\n      <td>DOLNOŚLĄSKIE</td>\n      <td>WAŁBRZYSKI</td>\n      <td>221055.0</td>\n      <td>DOLNOŚLĄSKIE</td>\n      <td>WAŁBRZYSKI</td>\n      <td>221055.0</td>\n      <td>...</td>\n      <td>False</td>\n      <td>I</td>\n      <td>55.0</td>\n      <td>552.0</td>\n      <td>5520.0</td>\n      <td>2</td>\n      <td>2</td>\n      <td>4</td>\n      <td>4</td>\n      <td>False</td>\n    </tr>\n    <tr>\n      <th>963492</th>\n      <td>963492</td>\n      <td>2018-05-10</td>\n      <td>February</td>\n      <td>1</td>\n      <td>MAŁOPOLSKIE</td>\n      <td>MYŚLENICKI</td>\n      <td>1209035.0</td>\n      <td>MAŁOPOLSKIE</td>\n      <td>MYŚLENICKI</td>\n      <td>1209035.0</td>\n      <td>...</td>\n      <td>False</td>\n      <td>Q</td>\n      <td>86.0</td>\n      <td>869.0</td>\n      <td>8690.0</td>\n      <td>1</td>\n      <td>1</td>\n      <td>1</td>\n      <td>1</td>\n      <td>True</td>\n    </tr>\n    <tr>\n      <th>726538</th>\n      <td>726538</td>\n      <td>2018-05-17</td>\n      <td>March</td>\n      <td>1</td>\n      <td>ŚLĄSKIE</td>\n      <td>KATOWICE</td>\n      <td>2469011.0</td>\n      <td>ŚLĄSKIE</td>\n      <td>KATOWICE</td>\n      <td>2469011.0</td>\n      <td>...</td>\n      <td>False</td>\n      <td>G</td>\n      <td>47.0</td>\n      <td>471.0</td>\n      <td>4711.0</td>\n      <td>1</td>\n      <td>1</td>\n      <td>1</td>\n      <td>1</td>\n      <td>True</td>\n    </tr>\n    <tr>\n      <th>578620</th>\n      <td>578620</td>\n      <td>2018-10-18</td>\n      <td>May</td>\n      <td>2</td>\n      <td>LUBUSKIE</td>\n      <td>GORZÓW WIELKOPOLSKI</td>\n      <td>861011.0</td>\n      <td>LUBUSKIE</td>\n      <td>GORZÓW WIELKOPOLSKI</td>\n      <td>861011.0</td>\n      <td>...</td>\n      <td>False</td>\n      <td>F</td>\n      <td>43.0</td>\n      <td>432.0</td>\n      <td>4322.0</td>\n      <td>2</td>\n      <td>2</td>\n      <td>2</td>\n      <td>4</td>\n      <td>False</td>\n    </tr>\n  </tbody>\n</table>\n<p>4 rows × 31 columns</p>\n</div>"
     },
     "metadata": {},
     "execution_count": 6
    }
   ],
   "source": [
    "df.sample(4)"
   ]
  },
  {
   "cell_type": "code",
   "execution_count": 7,
   "metadata": {},
   "outputs": [],
   "source": [
    "data = df[['MainAddressVoivodeship', 'PKDMainSection']]"
   ]
  },
  {
   "cell_type": "raw",
   "metadata": {},
   "source": [
    "fig = px.choropleth(map_data, geojson=geojson, color=\"size\", locations=\"id\", featureidkey=\"properties.id\", projection=\"mercator\", color_continuous_scale=\"peach\",\n",
    "                    labels={'id': 'id województwa', 'size': 'liczba zarejestrowanych działalności'}, hover_name=\"MainAddressVoivodeship\", hover_data=['size'])\n",
    "fig.update_geos(fitbounds=\"locations\", visible=False, lataxis_range=[50,60], lonaxis_range=[0, 30])\n",
    "fig.write_html(\"voivodeships.html\")"
   ]
  },
  {
   "cell_type": "code",
   "execution_count": 8,
   "metadata": {},
   "outputs": [
    {
     "output_type": "execute_result",
     "data": {
      "text/plain": "   MainAddressVoivodeship   size\n0            DOLNOŚLĄSKIE  23281\n1      KUJAWSKO-POMORSKIE  10904\n2               LUBELSKIE  10328\n3                LUBUSKIE   5303\n4             MAZOWIECKIE  70494\n5             MAŁOPOLSKIE  24967\n6                OPOLSKIE   4875\n7            PODKARPACKIE  10179\n8               PODLASKIE   6224\n9               POMORSKIE  19736\n10    WARMIŃSKO-MAZURSKIE   6997\n11          WIELKOPOLSKIE  27549\n12     ZACHODNIOPOMORSKIE  11616\n13                ŁÓDZKIE  15483\n14                ŚLĄSKIE  28121\n15         ŚWIĘTOKRZYSKIE   5950",
      "text/html": "<div>\n<style scoped>\n    .dataframe tbody tr th:only-of-type {\n        vertical-align: middle;\n    }\n\n    .dataframe tbody tr th {\n        vertical-align: top;\n    }\n\n    .dataframe thead th {\n        text-align: right;\n    }\n</style>\n<table border=\"1\" class=\"dataframe\">\n  <thead>\n    <tr style=\"text-align: right;\">\n      <th></th>\n      <th>MainAddressVoivodeship</th>\n      <th>size</th>\n    </tr>\n  </thead>\n  <tbody>\n    <tr>\n      <th>0</th>\n      <td>DOLNOŚLĄSKIE</td>\n      <td>23281</td>\n    </tr>\n    <tr>\n      <th>1</th>\n      <td>KUJAWSKO-POMORSKIE</td>\n      <td>10904</td>\n    </tr>\n    <tr>\n      <th>2</th>\n      <td>LUBELSKIE</td>\n      <td>10328</td>\n    </tr>\n    <tr>\n      <th>3</th>\n      <td>LUBUSKIE</td>\n      <td>5303</td>\n    </tr>\n    <tr>\n      <th>4</th>\n      <td>MAZOWIECKIE</td>\n      <td>70494</td>\n    </tr>\n    <tr>\n      <th>5</th>\n      <td>MAŁOPOLSKIE</td>\n      <td>24967</td>\n    </tr>\n    <tr>\n      <th>6</th>\n      <td>OPOLSKIE</td>\n      <td>4875</td>\n    </tr>\n    <tr>\n      <th>7</th>\n      <td>PODKARPACKIE</td>\n      <td>10179</td>\n    </tr>\n    <tr>\n      <th>8</th>\n      <td>PODLASKIE</td>\n      <td>6224</td>\n    </tr>\n    <tr>\n      <th>9</th>\n      <td>POMORSKIE</td>\n      <td>19736</td>\n    </tr>\n    <tr>\n      <th>10</th>\n      <td>WARMIŃSKO-MAZURSKIE</td>\n      <td>6997</td>\n    </tr>\n    <tr>\n      <th>11</th>\n      <td>WIELKOPOLSKIE</td>\n      <td>27549</td>\n    </tr>\n    <tr>\n      <th>12</th>\n      <td>ZACHODNIOPOMORSKIE</td>\n      <td>11616</td>\n    </tr>\n    <tr>\n      <th>13</th>\n      <td>ŁÓDZKIE</td>\n      <td>15483</td>\n    </tr>\n    <tr>\n      <th>14</th>\n      <td>ŚLĄSKIE</td>\n      <td>28121</td>\n    </tr>\n    <tr>\n      <th>15</th>\n      <td>ŚWIĘTOKRZYSKIE</td>\n      <td>5950</td>\n    </tr>\n  </tbody>\n</table>\n</div>"
     },
     "metadata": {},
     "execution_count": 8
    }
   ],
   "source": [
    "data[data['PKDMainSection'] == 'M'].groupby('MainAddressVoivodeship').size().to_frame('size').reset_index()"
   ]
  },
  {
   "cell_type": "raw",
   "metadata": {},
   "source": [
    "v_size = df.groupby('MainAddressVoivodeship').size().to_frame('size').reset_index()"
   ]
  },
  {
   "cell_type": "raw",
   "metadata": {},
   "source": [
    "map_data = pd.merge(v_size, v_id.set_index('nazwa'), left_on='MainAddressVoivodeship', right_index=True)"
   ]
  },
  {
   "cell_type": "raw",
   "metadata": {},
   "source": [
    "with open('./geo/powiaty-min.geojson', 'r', encoding=\"utf8\") as json_file:\n",
    "    geojson_counties = json.load(json_file)\n",
    "v_id = pd.DataFrame([v['properties'] for v in geojson_counties['features']])\n",
    "v_id['nazwa'] = v_id['nazwa'].str[7:]\n",
    "v_id['nazwa'] = v_id['nazwa'].str.upper()\n",
    "data = df[['MainAddressCounty', 'PKDMainSection']]\n",
    "data[data['PKDMainSection'] == 'M'].groupby('MainAddressCounty').size().to_frame('size').reset_index()\n",
    "v_size = df.groupby('MainAddressCounty').size().to_frame('size').reset_index()\n",
    "map_data = pd.merge(v_size, v_id.set_index('nazwa'), left_on='MainAddressCounty', right_index=True)\n",
    "fig = px.choropleth(map_data, geojson=geojson_counties, color=\"size\", locations=\"id\", featureidkey=\"properties.id\", projection=\"mercator\", color_continuous_scale=\"peach\",\n",
    "                    labels={'id': 'id powiatu', 'size': 'liczba zarejestrowanych działalności'}, hover_name=\"MainAddressCounty\", hover_data=['size'])\n",
    "fig.update_geos(fitbounds=\"locations\", visible=False, lataxis_range=[50,60], lonaxis_range=[0, 30])\n",
    "fig.write_html(\"powiats.html\")"
   ]
  },
  {
   "cell_type": "code",
   "execution_count": 10,
   "metadata": {
    "scrolled": true
   },
   "outputs": [
    {
     "output_type": "stream",
     "name": "stdout",
     "text": "MainAddressVoivodeship\nDOLNOŚLĄSKIE           K\nKUJAWSKO-POMORSKIE     D\nLUBELSKIE              B\nLUBUSKIE               S\nMAZOWIECKIE            M\nMAŁOPOLSKIE            R\nOPOLSKIE               K\nPODKARPACKIE           B\nPODLASKIE              A\nPOMORSKIE              O\nWARMIŃSKO-MAZURSKIE    Q\nWIELKOPOLSKIE          N\nZACHODNIOPOMORSKIE     I\nŁÓDZKIE                G\nŚLĄSKIE                K\nŚWIĘTOKRZYSKIE         E\nName: Max, dtype: object\nMainAddressVoivodeship\nDOLNOŚLĄSKIE           F\nKUJAWSKO-POMORSKIE     D\nLUBELSKIE              B\nLUBUSKIE               O\nMAZOWIECKIE            J\nMAŁOPOLSKIE            F\nOPOLSKIE               O\nPODKARPACKIE           B\nPODLASKIE              A\nPOMORSKIE              O\nWARMIŃSKO-MAZURSKIE    A\nWIELKOPOLSKIE          A\nZACHODNIOPOMORSKIE     I\nŁÓDZKIE                B\nŚLĄSKIE                C\nŚWIĘTOKRZYSKIE         E\nName: Max, dtype: object\n"
    }
   ],
   "source": [
    "data = df[['MainAddressVoivodeship', 'MainAddressCounty', 'PKDMainSection']]\n",
    "matrix = data.groupby(['MainAddressVoivodeship','PKDMainSection']).size().unstack(fill_value=0)\n",
    "matrix_proportions = matrix.div(matrix.sum(axis=1), axis=0)\n",
    "normalized = matrix_proportions.apply(zscore)\n",
    "normalized['Max'] = normalized.idxmax(axis=1)\n",
    "print(normalized['Max'])\n",
    "\n",
    "normalized_absolute = matrix.apply(zscore)\n",
    "# mało działalności z T, więc pomijamy, bo wywala w kosmos Z Score jak już coś jest\n",
    "normalized_absolute['Max'] = normalized_absolute.iloc[:,:-1].idxmax(axis=1)\n",
    "print(normalized_absolute['Max'])"
   ]
  },
  {
   "cell_type": "code",
   "execution_count": 17,
   "metadata": {},
   "outputs": [
    {
     "output_type": "stream",
     "name": "stdout",
     "text": "MainAddressVoivodeship     object\nMainAddressCounty          object\nPKDMainSection             object\nPKDMainDivision           float64\nPKDMainGroup              float64\nPKDMainClass              float64\ndtype: object\n"
    }
   ],
   "source": [
    "print(data.dtypes)"
   ]
  },
  {
   "cell_type": "code",
   "execution_count": 26,
   "metadata": {},
   "outputs": [],
   "source": [
    "sections = pd.read_csv('./data/section_list.csv', dtype=str)\n",
    "sections['name'] = sections[['symbol', 'name']].apply('-'.join, axis=1)\n",
    "sections = sections.sort_values(axis=0, by='symbol')\n",
    "\n",
    "divisions = pd.read_csv('./data/division_list.csv', dtype=str)\n",
    "divisions['name'] = divisions[['symbol', 'name']].apply('-'.join, axis=1)\n",
    "divisions['symbol'] = divisions['symbol'].astype('float64')\n",
    "divisions = divisions.sort_values(axis=0, by='symbol')\n",
    "\n",
    "groups = pd.read_csv('./data/group_list.csv')\n",
    "groups['symbol'] = groups['symbol'].astype(str)\n",
    "groups['name'] = groups[['symbol', 'name']].apply('-'.join, axis=1)\n",
    "groups['symbol'] = groups['symbol'].astype('float64')\n",
    "groups = groups.sort_values(axis=0, by='symbol')\n",
    "\n",
    "classes = pd.read_csv('./data/class_list.csv')\n",
    "classes['symbol'] = classes['symbol'].astype(str)\n",
    "classes['name'] = classes[['symbol', 'name']].apply('-'.join, axis=1)\n",
    "classes['symbol'] = classes['symbol'].astype('float64')\n",
    "classes = classes.sort_values(axis=0, by='symbol')"
   ]
  },
  {
   "cell_type": "code",
   "execution_count": 27,
   "metadata": {
    "tags": [
     "outputPrepend",
     "outputPrepend",
     "outputPrepend",
     "outputPrepend",
     "outputPrepend",
     "outputPrepend",
     "outputPrepend",
     "outputPrepend",
     "outputPrepend",
     "outputPrepend",
     "outputPrepend",
     "outputPrepend",
     "outputPrepend"
    ]
   },
   "outputs": [
    {
     "output_type": "stream",
     "name": "stdout",
     "text": "* Serving Flask app \"__main__\" (lazy loading)\n * Environment: production\n   WARNING: This is a development server. Do not use it in a production deployment.\n   Use a production WSGI server instead.\n * Debug mode: off\n * Running on http://127.0.0.1:8050/ (Press CTRL+C to quit)\n127.0.0.1 - - [13/May/2020 11:48:17] \"\u001b[37mGET / HTTP/1.1\u001b[0m\" 200 -\n127.0.0.1 - - [13/May/2020 11:48:18] \"\u001b[37mGET /_dash-layout HTTP/1.1\u001b[0m\" 200 -\n127.0.0.1 - - [13/May/2020 11:48:18] \"\u001b[37mGET /_dash-dependencies HTTP/1.1\u001b[0m\" 200 -\n127.0.0.1 - - [13/May/2020 11:48:18] \"\u001b[37mGET /_favicon.ico?v=1.12.0 HTTP/1.1\u001b[0m\" 200 -\n127.0.0.1 - - [13/May/2020 11:48:18] \"\u001b[37mPOST /_dash-update-component HTTP/1.1\u001b[0m\" 200 -\n127.0.0.1 - - [13/May/2020 11:48:18] \"\u001b[37mPOST /_dash-update-component HTTP/1.1\u001b[0m\" 200 -\n127.0.0.1 - - [13/May/2020 11:48:18] \"\u001b[37mPOST /_dash-update-component HTTP/1.1\u001b[0m\" 200 -\n127.0.0.1 - - [13/May/2020 11:48:18] \"\u001b[37mPOST /_dash-update-component HTTP/1.1\u001b[0m\" 200 -\n127.0.0.1 - - [13/May/2020 11:48:18] \"\u001b[37mPOST /_dash-update-component HTTP/1.1\u001b[0m\" 200 -\n127.0.0.1 - - [13/May/2020 11:48:18] \"\u001b[37mPOST /_dash-update-component HTTP/1.1\u001b[0m\" 200 -\nNone\nNone\nvoivodeships\nNone\nNone\n127.0.0.1 - - [13/May/2020 11:48:19] \"\u001b[37mPOST /_dash-update-component HTTP/1.1\u001b[0m\" 200 -\n127.0.0.1 - - [13/May/2020 11:48:24] \"\u001b[37mPOST /_dash-update-component HTTP/1.1\u001b[0m\" 200 -\n127.0.0.1 - - [13/May/2020 11:48:24] \"\u001b[37mPOST /_dash-update-component HTTP/1.1\u001b[0m\" 200 -\n127.0.0.1 - - [13/May/2020 11:48:24] \"\u001b[37mPOST /_dash-update-component HTTP/1.1\u001b[0m\" 200 -\n127.0.0.1 - - [13/May/2020 11:48:24] \"\u001b[37mPOST /_dash-update-component HTTP/1.1\u001b[0m\" 200 -\n127.0.0.1 - - [13/May/2020 11:48:24] \"\u001b[37mPOST /_dash-update-component HTTP/1.1\u001b[0m\" 200 -\n127.0.0.1 - - [13/May/2020 11:48:24] \"\u001b[37mPOST /_dash-update-component HTTP/1.1\u001b[0m\" 200 -\nE\nNone\nvoivodeships\nNone\nNone\n127.0.0.1 - - [13/May/2020 11:48:25] \"\u001b[37mPOST /_dash-update-component HTTP/1.1\u001b[0m\" 200 -\n127.0.0.1 - - [13/May/2020 11:48:27] \"\u001b[37mPOST /_dash-update-component HTTP/1.1\u001b[0m\" 200 -\n127.0.0.1 - - [13/May/2020 11:48:27] \"\u001b[37mPOST /_dash-update-component HTTP/1.1\u001b[0m\" 200 -\n127.0.0.1 - - [13/May/2020 11:48:27] \"\u001b[37mPOST /_dash-update-component HTTP/1.1\u001b[0m\" 200 -\n127.0.0.1 - - [13/May/2020 11:48:27] \"\u001b[37mPOST /_dash-update-component HTTP/1.1\u001b[0m\" 200 -\nE\n38\nvoivodeships\nNone\nNone\n127.0.0.1 - - [13/May/2020 11:48:28] \"\u001b[37mPOST /_dash-update-component HTTP/1.1\u001b[0m\" 200 -\n127.0.0.1 - - [13/May/2020 11:48:30] \"\u001b[37mPOST /_dash-update-component HTTP/1.1\u001b[0m\" 200 -\n127.0.0.1 - - [13/May/2020 11:48:30] \"\u001b[37mPOST /_dash-update-component HTTP/1.1\u001b[0m\" 200 -\nE\n38\nvoivodeships\n382\nNone\n127.0.0.1 - - [13/May/2020 11:48:31] \"\u001b[37mPOST /_dash-update-component HTTP/1.1\u001b[0m\" 200 -\nE\n38\nvoivodeships\n382\n3821\n127.0.0.1 - - [13/May/2020 11:48:35] \"\u001b[37mPOST /_dash-update-component HTTP/1.1\u001b[0m\" 200 -\n"
    }
   ],
   "source": [
    "with open('./geo/wojewodztwa-min.geojson', 'r', encoding=\"utf8\") as json_file:\n",
    "    geojson_voivodeships = json.load(json_file)\n",
    "\n",
    "with open('./geo/powiaty-min.geojson', 'r', encoding=\"utf8\") as json_file:\n",
    "    geojson_counties = json.load(json_file)\n",
    "\n",
    "data = df[['MainAddressVoivodeship', 'MainAddressCounty', 'PKDMainSection', 'PKDMainDivision',\n",
    "          'PKDMainGroup', 'PKDMainClass']]\n",
    "possible_classification_combinations = data[['PKDMainSection', 'PKDMainDivision', 'PKDMainGroup', 'PKDMainClass']].drop_duplicates().dropna()\n",
    "\n",
    "section_list = [dict(label=row['name'], value=row['symbol']) for i, row in sections.iterrows()]\n",
    "\n",
    "app = dash.Dash(\n",
    "    __name__, external_stylesheets=[dbc.themes.BOOTSTRAP]\n",
    ")\n",
    "\n",
    "\n",
    "controls = dbc.Card([\n",
    "        dbc.FormGroup(\n",
    "            [ \n",
    "                dbc.Label(\"Podział\"),\n",
    "                dcc.Dropdown(id=\"Podział\", value='voivodeships', options=[\n",
    "                    {'label': 'Województwa', 'value': 'voivodeships'}, {'label': 'Powiaty', 'value': 'counties'}\n",
    "                ])\n",
    "            ]\n",
    "        ),\n",
    "        dbc.FormGroup(\n",
    "            [ \n",
    "                dbc.Label(\"Sekcja\"),\n",
    "                dcc.Dropdown(id=\"section-dropdown\", options=section_list)\n",
    "            ]\n",
    "        ),\n",
    "        dbc.FormGroup(\n",
    "            [ \n",
    "                dbc.Label(\"Dział\"),\n",
    "                dcc.Dropdown(id=\"division-dropdown\")\n",
    "            ]\n",
    "        ),\n",
    "        dbc.FormGroup(\n",
    "            [ \n",
    "                dbc.Label(\"Grupa\"),\n",
    "                dcc.Dropdown(id=\"group-dropdown\")\n",
    "            ]\n",
    "        ),\n",
    "        dbc.FormGroup(\n",
    "            [ \n",
    "                dbc.Label(\"Klasa\"),\n",
    "                dcc.Dropdown(id=\"class-dropdown\")\n",
    "            ]\n",
    "        )\n",
    "    ],\n",
    "    body=True)\n",
    "\n",
    "\n",
    "app.layout = dbc.Container(\n",
    "    [\n",
    "        html.H2(\"Charakterystyka przestrzenna działalności gospodarczej\"),\n",
    "        html.Hr(),\n",
    "        dbc.Row(\n",
    "            [\n",
    "                dbc.Col(controls, md=3),\n",
    "                dbc.Col(dcc.Graph(id=\"graph\"), md=9),\n",
    "            ],\n",
    "            align=\"left\"\n",
    "        )\n",
    "    ]\n",
    ")\n",
    "\n",
    "\n",
    "@app.callback(Output(\"graph\", \"figure\"), [\n",
    "        Input(\"section-dropdown\", \"value\"),\n",
    "        Input(\"division-dropdown\", \"value\"),\n",
    "        Input(\"group-dropdown\", \"value\"),\n",
    "        Input(\"class-dropdown\", \"value\"),\n",
    "        Input(\"Podział\", \"value\")\n",
    "    ])\n",
    "def make_figure(section, division, group, _class, area_division):\n",
    "    print(section)\n",
    "    print(division)\n",
    "    print(area_division)\n",
    "    print(group)\n",
    "    print(_class)\n",
    "    if area_division is None or area_division == \"voivodeships\":\n",
    "        if section is None:\n",
    "            v_size = data.groupby('MainAddressVoivodeship').size().to_frame('size').reset_index()\n",
    "        elif division is None:\n",
    "            v_size = data[data['PKDMainSection'] == section].groupby('MainAddressVoivodeship').size().to_frame('size').reset_index()\n",
    "        elif group is None:\n",
    "            v_size = data[data['PKDMainDivision'] == division].groupby('MainAddressVoivodeship').size().to_frame('size').reset_index()\n",
    "        elif _class is None:\n",
    "            v_size = data[data['PKDMainGroup'] == group].groupby('MainAddressVoivodeship').size().to_frame('size').reset_index()\n",
    "        else:\n",
    "            v_size = data[data['PKDMainClass'] == _class].groupby('MainAddressVoivodeship').size().to_frame('size').reset_index()\n",
    "        geojson = geojson_voivodeships\n",
    "        v_id = pd.DataFrame([v['properties'] for v in geojson['features']])\n",
    "        v_id['nazwa'] = v_id['nazwa'].str.upper()\n",
    "        map_data = pd.merge(v_size, v_id.set_index('nazwa'), how='right', left_on='MainAddressVoivodeship', right_index=True)\n",
    "        map_data['size'].fillna(0, inplace=True)\n",
    "        fig = px.choropleth(map_data, geojson=geojson, color=\"size\", locations=\"id\", featureidkey=\"properties.id\", projection=\"mercator\", color_continuous_scale=\"peach\", \n",
    "                    labels={'id': 'id województwa', 'size': 'liczba firm'}, hover_name=\"MainAddressVoivodeship\", hover_data=['size'],\n",
    "                           height=800)\n",
    "    else:\n",
    "        if section is None:\n",
    "            v_size = data.groupby('MainAddressCounty').size().to_frame('size').reset_index()\n",
    "        elif division is None:\n",
    "            v_size = data[data['PKDMainSection'] == section].groupby('MainAddressCounty').size().to_frame('size').reset_index()\n",
    "        elif group is None:\n",
    "            v_size = data[data['PKDMainDivision'] == division].groupby('MainAddressCounty').size().to_frame('size').reset_index()\n",
    "        elif _class is None:\n",
    "            v_size = data[data['PKDMainGroup'] == group].groupby('MainAddressCounty').size().to_frame('size').reset_index()\n",
    "        else:\n",
    "            v_size = data[data['PKDMainClass'] == _class].groupby('MainAddressCounty').size().to_frame('size').reset_index()\n",
    "        geojson = geojson_counties\n",
    "        v_id = pd.DataFrame([v['properties'] for v in geojson_counties['features']])\n",
    "        v_id['nazwa'] = v_id['nazwa'].str[7:]\n",
    "        v_id['nazwa'] = v_id['nazwa'].str.upper()\n",
    "        map_data = pd.merge(v_size, v_id.set_index('nazwa'), how='right', left_on='MainAddressCounty', right_index=True)\n",
    "        map_data['size'].fillna(0, inplace=True)\n",
    "        fig = px.choropleth(map_data, geojson=geojson, color=\"size\", locations=\"id\", featureidkey=\"properties.id\", projection=\"mercator\", color_continuous_scale=\"peach\", \n",
    "                            labels={'id': 'id powiatu', 'size': 'liczba firm'}, hover_name=\"MainAddressCounty\", hover_data=['size'],\n",
    "                           height=800)\n",
    "    fig.update_geos(fitbounds=\"locations\", visible=False, lataxis_range=[50,60], lonaxis_range=[0, 30])\n",
    "    return fig\n",
    "\n",
    "@app.callback(Output(\"division-dropdown\", \"options\"), [Input(\"section-dropdown\", \"value\")])\n",
    "def get_division_options(section):\n",
    "    divisions_from_section = divisions[divisions['parent']==section]\n",
    "    division_list = [dict(label=row['name'], value=row['symbol']) for i, row in divisions_from_section.iterrows()]\n",
    "    return division_list\n",
    "\n",
    "@app.callback(Output(\"division-dropdown\", \"value\"), [Input(\"section-dropdown\", \"value\")])\n",
    "def reset_division_value_on_section_change(section):\n",
    "    return None\n",
    "\n",
    "@app.callback(Output(\"group-dropdown\", \"options\"), [Input(\"division-dropdown\", \"value\")])\n",
    "def get_group_options(division):\n",
    "    groups_from_section = groups[groups['parent']==division]\n",
    "    group_list = [dict(label=row['name'], value=row['symbol']) for i, row in groups_from_section.iterrows()]\n",
    "    return group_list\n",
    "\n",
    "@app.callback(Output(\"group-dropdown\", \"value\"), [Input(\"section-dropdown\", \"value\"), Input(\"division-dropdown\", \"value\")])\n",
    "def reset_group_value_on_section_or_division_change(section, division):\n",
    "    return None\n",
    "\n",
    "@app.callback(Output(\"class-dropdown\", \"options\"), [Input(\"group-dropdown\", \"value\")])\n",
    "def get_division_options(group):\n",
    "    classes_from_section = classes[classes['parent']==group]\n",
    "    class_list = [dict(label=row['name'], value=row['symbol']) for i, row in classes_from_section.iterrows()]\n",
    "    return class_list\n",
    "\n",
    "@app.callback(Output(\"class-dropdown\", \"value\"), [\n",
    "        Input(\"section-dropdown\", \"value\"),\n",
    "        Input(\"division-dropdown\", \"value\"),\n",
    "        Input(\"group-dropdown\", \"value\")])\n",
    "def reset_class_value_on_section_or_division_or_group_change(section, division, group):\n",
    "    return None\n",
    "\n",
    "app.run_server()"
   ]
  },
  {
   "cell_type": "code",
   "execution_count": null,
   "metadata": {},
   "outputs": [],
   "source": []
  }
 ],
 "metadata": {
  "kernelspec": {
   "display_name": "Python 3.7.7 64-bit",
   "language": "python",
   "name": "python37764bita0d8ebd9172b4eff9090cfcb53ec4aa9"
  },
  "language_info": {
   "codemirror_mode": {
    "name": "ipython",
    "version": 3
   },
   "file_extension": ".py",
   "mimetype": "text/x-python",
   "name": "python",
   "nbconvert_exporter": "python",
   "pygments_lexer": "ipython3",
   "version": "3.7.7-final"
  }
 },
 "nbformat": 4,
 "nbformat_minor": 4
}